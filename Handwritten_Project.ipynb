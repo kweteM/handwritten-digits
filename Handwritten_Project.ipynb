{
  "nbformat": 4,
  "nbformat_minor": 0,
  "metadata": {
    "colab": {
      "provenance": [],
      "authorship_tag": "ABX9TyNuKw4TqgfSKc5M+BpS0Hdr",
      "include_colab_link": true
    },
    "kernelspec": {
      "name": "python3",
      "display_name": "Python 3"
    },
    "language_info": {
      "name": "python"
    }
  },
  "cells": [
    {
      "cell_type": "markdown",
      "metadata": {
        "id": "view-in-github",
        "colab_type": "text"
      },
      "source": [
        "<a href=\"https://colab.research.google.com/github/kweteM/handwritten-digits/blob/main/Handwritten_Project.ipynb\" target=\"_parent\"><img src=\"https://colab.research.google.com/assets/colab-badge.svg\" alt=\"Open In Colab\"/></a>"
      ]
    },
    {
      "cell_type": "code",
      "execution_count": null,
      "metadata": {
        "id": "Ohh7oEqhN6GC"
      },
      "outputs": [],
      "source": [
        "import keras\n",
        "from keras.datasets import mnist\n",
        "from keras.models import Sequential\n",
        "from keras.layers import Dense, Dropout, Flatten\n",
        "from keras.layers import Conv2D, MaxPooling2D\n",
        "from keras import backend as K\n",
        "from keras.optimizers import Adam"
      ]
    },
    {
      "cell_type": "code",
      "source": [
        "# the data, split between train and test sets\n",
        "(x_train, y_train), (x_test, y_test) = mnist.load_data()\n",
        "\n",
        "print(x_train.shape, y_train.shape)"
      ],
      "metadata": {
        "colab": {
          "base_uri": "https://localhost:8080/"
        },
        "id": "qY6sYtwVa_Gh",
        "outputId": "d7eba0c7-9d88-4eb9-abf5-4e4a250cbba9"
      },
      "execution_count": null,
      "outputs": [
        {
          "output_type": "stream",
          "name": "stdout",
          "text": [
            "(60000, 28, 28) (60000,)\n"
          ]
        }
      ]
    },
    {
      "cell_type": "code",
      "source": [
        "x_train = x_train.reshape(x_train.shape[0], 28, 28, 1)\n",
        "x_test = x_test.reshape(x_test.shape[0], 28, 28, 1)\n",
        "input_shape = (28, 28, 1)"
      ],
      "metadata": {
        "id": "LPoBvmapbcmg"
      },
      "execution_count": null,
      "outputs": []
    },
    {
      "cell_type": "code",
      "source": [
        "# convert class vectors to binary class matrices\n",
        "y_train = keras.utils.to_categorical(y_train, 10)\n",
        "y_test = keras.utils.to_categorical(y_test, 10)"
      ],
      "metadata": {
        "id": "zQYT8M0cbgIl"
      },
      "execution_count": null,
      "outputs": []
    },
    {
      "cell_type": "code",
      "source": [
        "x_train = x_train.astype('float32')\n",
        "x_test = x_test.astype('float32')\n",
        "x_train /= 255\n",
        "x_test /= 255\n",
        "print('x_train shape:', x_train.shape)\n",
        "print(x_train.shape[0], 'train samples')\n",
        "print(x_test.shape[0], 'test samples')"
      ],
      "metadata": {
        "colab": {
          "base_uri": "https://localhost:8080/"
        },
        "id": "Fe8WdzkvbjLt",
        "outputId": "9c11ffb5-e824-4e8a-b69a-36f921432912"
      },
      "execution_count": null,
      "outputs": [
        {
          "output_type": "stream",
          "name": "stdout",
          "text": [
            "x_train shape: (60000, 28, 28, 1)\n",
            "60000 train samples\n",
            "10000 test samples\n"
          ]
        }
      ]
    },
    {
      "cell_type": "code",
      "source": [
        "batch_size = 128\n",
        "num_classes = 10\n",
        "epochs = 15\n",
        "\n",
        "model = Sequential()\n",
        "model.add(Conv2D(32, kernel_size=(5, 5),activation='relu',input_shape=input_shape))\n",
        "model.add(MaxPooling2D(pool_size=(2, 2)))\n",
        "model.add(Conv2D(64, (3, 3), activation='relu'))\n",
        "model.add(MaxPooling2D(pool_size=(2, 2)))\n",
        "model.add(Flatten())\n",
        "model.add(Dense(128, activation='relu'))\n",
        "model.add(Dropout(0.3))\n",
        "model.add(Dense(64, activation='relu'))\n",
        "model.add(Dropout(0.5))\n",
        "model.add(Dense(num_classes, activation='sigmoid'))\n",
        "\n",
        "model.compile(loss=keras.losses.categorical_crossentropy,optimizer=Adam(lr=0.001),metrics=['accuracy'])"
      ],
      "metadata": {
        "colab": {
          "base_uri": "https://localhost:8080/"
        },
        "id": "19gNTPhAboCV",
        "outputId": "f9b95e63-59f9-42a8-b1ef-bb3691e93d62"
      },
      "execution_count": null,
      "outputs": [
        {
          "output_type": "stream",
          "name": "stderr",
          "text": [
            "WARNING:absl:`lr` is deprecated in Keras optimizer, please use `learning_rate` or use the legacy optimizer, e.g.,tf.keras.optimizers.legacy.Adam.\n"
          ]
        }
      ]
    },
    {
      "cell_type": "code",
      "source": [
        "hist = model.fit(x_train, y_train,batch_size=batch_size,epochs=epochs,verbose=1,validation_data=(x_test, y_test))\n",
        "print(\"The model has successfully trained\")"
      ],
      "metadata": {
        "colab": {
          "base_uri": "https://localhost:8080/"
        },
        "id": "AfLN_jwebr4F",
        "outputId": "3989f788-4388-4d32-cef4-a5b3b0986b14"
      },
      "execution_count": null,
      "outputs": [
        {
          "output_type": "stream",
          "name": "stdout",
          "text": [
            "Epoch 1/15\n",
            "469/469 [==============================] - 47s 97ms/step - loss: 0.3848 - accuracy: 0.8813 - val_loss: 0.0664 - val_accuracy: 0.9803\n",
            "Epoch 2/15\n",
            "469/469 [==============================] - 43s 91ms/step - loss: 0.1074 - accuracy: 0.9713 - val_loss: 0.0427 - val_accuracy: 0.9862\n",
            "Epoch 3/15\n",
            "469/469 [==============================] - 43s 92ms/step - loss: 0.0743 - accuracy: 0.9810 - val_loss: 0.0399 - val_accuracy: 0.9883\n",
            "Epoch 4/15\n",
            "469/469 [==============================] - 42s 90ms/step - loss: 0.0612 - accuracy: 0.9840 - val_loss: 0.0315 - val_accuracy: 0.9905\n",
            "Epoch 5/15\n",
            "469/469 [==============================] - 41s 88ms/step - loss: 0.0531 - accuracy: 0.9865 - val_loss: 0.0372 - val_accuracy: 0.9890\n",
            "Epoch 6/15\n",
            "469/469 [==============================] - 42s 89ms/step - loss: 0.0472 - accuracy: 0.9880 - val_loss: 0.0309 - val_accuracy: 0.9917\n",
            "Epoch 7/15\n",
            "469/469 [==============================] - 42s 90ms/step - loss: 0.0378 - accuracy: 0.9901 - val_loss: 0.0299 - val_accuracy: 0.9920\n",
            "Epoch 8/15\n",
            "469/469 [==============================] - 42s 89ms/step - loss: 0.0332 - accuracy: 0.9915 - val_loss: 0.0285 - val_accuracy: 0.9917\n",
            "Epoch 9/15\n",
            "469/469 [==============================] - 43s 91ms/step - loss: 0.0303 - accuracy: 0.9919 - val_loss: 0.0250 - val_accuracy: 0.9933\n",
            "Epoch 10/15\n",
            "469/469 [==============================] - 41s 88ms/step - loss: 0.0282 - accuracy: 0.9928 - val_loss: 0.0283 - val_accuracy: 0.9927\n",
            "Epoch 11/15\n",
            "469/469 [==============================] - 41s 87ms/step - loss: 0.0254 - accuracy: 0.9933 - val_loss: 0.0272 - val_accuracy: 0.9929\n",
            "Epoch 12/15\n",
            "469/469 [==============================] - 41s 88ms/step - loss: 0.0212 - accuracy: 0.9940 - val_loss: 0.0301 - val_accuracy: 0.9918\n",
            "Epoch 13/15\n",
            "469/469 [==============================] - 41s 87ms/step - loss: 0.0208 - accuracy: 0.9941 - val_loss: 0.0286 - val_accuracy: 0.9929\n",
            "Epoch 14/15\n",
            "469/469 [==============================] - 41s 88ms/step - loss: 0.0191 - accuracy: 0.9946 - val_loss: 0.0327 - val_accuracy: 0.9924\n",
            "Epoch 15/15\n",
            "469/469 [==============================] - 42s 90ms/step - loss: 0.0192 - accuracy: 0.9950 - val_loss: 0.0321 - val_accuracy: 0.9921\n",
            "The model has successfully trained\n"
          ]
        }
      ]
    },
    {
      "cell_type": "code",
      "source": [
        "score = model.evaluate(x_test, y_test, verbose=0)\n",
        "print('Test loss:', score[0])\n",
        "print('Test accuracy:', score[1])"
      ],
      "metadata": {
        "colab": {
          "base_uri": "https://localhost:8080/"
        },
        "id": "cd59CIPhbu08",
        "outputId": "961fe8be-94bd-4092-a288-d025fabadf27"
      },
      "execution_count": null,
      "outputs": [
        {
          "output_type": "stream",
          "name": "stdout",
          "text": [
            "Test loss: 0.03210640326142311\n",
            "Test accuracy: 0.9921000003814697\n"
          ]
        }
      ]
    },
    {
      "cell_type": "code",
      "source": [
        "model.save('mnist.h5')\n",
        "print(\"Saving the model as mnist.h5\")"
      ],
      "metadata": {
        "colab": {
          "base_uri": "https://localhost:8080/"
        },
        "id": "BTu5oBM_PNaE",
        "outputId": "72536228-f19b-4531-d52f-d477570876b2"
      },
      "execution_count": null,
      "outputs": [
        {
          "output_type": "stream",
          "name": "stdout",
          "text": [
            "Saving the model as mnist.h5\n"
          ]
        },
        {
          "output_type": "stream",
          "name": "stderr",
          "text": [
            "/usr/local/lib/python3.10/dist-packages/keras/src/engine/training.py:3103: UserWarning: You are saving your model as an HDF5 file via `model.save()`. This file format is considered legacy. We recommend using instead the native Keras format, e.g. `model.save('my_model.keras')`.\n",
            "  saving_api.save_model(\n"
          ]
        }
      ]
    }
  ]
}